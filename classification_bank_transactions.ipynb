{
  "cells": [
    {
      "cell_type": "markdown",
      "metadata": {
        "id": "fKADPWcFKlj3"
      },
      "source": [
        "# **1. Import Library**"
      ]
    },
    {
      "cell_type": "markdown",
      "metadata": {
        "id": "LgA3ERnVn84N"
      },
      "source": [
        "Pada tahap ini, Anda perlu mengimpor beberapa pustaka (library) Python yang dibutuhkan untuk analisis data dan pembangunan model machine learning."
      ]
    },
    {
      "cell_type": "code",
      "execution_count": 1,
      "metadata": {
        "id": "BlmvjLY9M4Yj"
      },
      "outputs": [],
      "source": [
        "import pandas as pd\n",
        "import numpy as np\n",
        "import seaborn as sb\n",
        "import time\n",
        "import matplotlib.pyplot as plt\n",
        "\n",
        "from sklearn.preprocessing import StandardScaler\n",
        "from sklearn.model_selection import train_test_split\n",
        "from sklearn.neighbors import KNeighborsClassifier\n",
        "from sklearn.ensemble import RandomForestClassifier\n",
        "from sklearn.metrics import accuracy_score, confusion_matrix, classification_report\n",
        "from sklearn.model_selection import GridSearchCV\n"
      ]
    },
    {
      "cell_type": "markdown",
      "metadata": {
        "id": "f3YIEnAFKrKL"
      },
      "source": [
        "# **2. Memuat Dataset dari Hasil Clustering**"
      ]
    },
    {
      "cell_type": "markdown",
      "metadata": {
        "id": "Ey3ItwTen_7E"
      },
      "source": [
        "Memuat dataset hasil clustering dari file CSV ke dalam variabel DataFrame."
      ]
    },
    {
      "cell_type": "code",
      "execution_count": 2,
      "metadata": {
        "colab": {
          "base_uri": "https://localhost:8080/"
        },
        "id": "GHCGNTyrM5fS",
        "outputId": "7b6265ae-f290-4024-e76e-63d21a7e31da"
      },
      "outputs": [
        {
          "name": "stdout",
          "output_type": "stream",
          "text": [
            "Drive already mounted at /content/drive; to attempt to forcibly remount, call drive.mount(\"/content/drive\", force_remount=True).\n"
          ]
        }
      ],
      "source": [
        "# Mount Google Drive\n",
        "from google.colab import drive\n",
        "drive.mount('/content/drive')\n",
        "\n",
        "file_path = \"/content/drive/MyDrive/Colab Notebooks/Dataset/bank_transactions_clustered.csv\"\n",
        "\n",
        "df = pd.read_csv(file_path)"
      ]
    },
    {
      "cell_type": "code",
      "execution_count": 3,
      "metadata": {
        "colab": {
          "base_uri": "https://localhost:8080/"
        },
        "id": "3vlf4WfhsFiy",
        "outputId": "4ac8a21e-e340-4f9b-8e38-93a94cb67076"
      },
      "outputs": [
        {
          "name": "stdout",
          "output_type": "stream",
          "text": [
            "<class 'pandas.core.frame.DataFrame'>\n",
            "RangeIndex: 2512 entries, 0 to 2511\n",
            "Data columns (total 17 columns):\n",
            " #   Column                   Non-Null Count  Dtype  \n",
            "---  ------                   --------------  -----  \n",
            " 0   TransactionID            2512 non-null   object \n",
            " 1   AccountID                2512 non-null   object \n",
            " 2   TransactionAmount        2512 non-null   float64\n",
            " 3   TransactionDate          2512 non-null   object \n",
            " 4   TransactionType          2512 non-null   object \n",
            " 5   Location                 2512 non-null   object \n",
            " 6   DeviceID                 2512 non-null   object \n",
            " 7   IP Address               2512 non-null   object \n",
            " 8   MerchantID               2512 non-null   object \n",
            " 9   Channel                  2512 non-null   object \n",
            " 10  CustomerAge              2512 non-null   int64  \n",
            " 11  CustomerOccupation       2512 non-null   object \n",
            " 12  TransactionDuration      2512 non-null   int64  \n",
            " 13  LoginAttempts            2512 non-null   int64  \n",
            " 14  AccountBalance           2512 non-null   float64\n",
            " 15  PreviousTransactionDate  2512 non-null   object \n",
            " 16  Cluster                  2512 non-null   int64  \n",
            "dtypes: float64(2), int64(4), object(11)\n",
            "memory usage: 333.8+ KB\n"
          ]
        }
      ],
      "source": [
        "df.info()"
      ]
    },
    {
      "cell_type": "code",
      "execution_count": 4,
      "metadata": {
        "colab": {
          "base_uri": "https://localhost:8080/",
          "height": 313
        },
        "id": "xd7msGLAsWgh",
        "outputId": "b28d2351-7e17-427e-dfe1-b438c93661fe"
      },
      "outputs": [
        {
          "data": {
            "application/vnd.google.colaboratory.intrinsic+json": {
              "repr_error": "0",
              "type": "dataframe"
            },
            "text/html": [
              "\n",
              "  <div id=\"df-f2513584-aaa6-4ae0-a81a-4bac6c1d0c5d\" class=\"colab-df-container\">\n",
              "    <div>\n",
              "<style scoped>\n",
              "    .dataframe tbody tr th:only-of-type {\n",
              "        vertical-align: middle;\n",
              "    }\n",
              "\n",
              "    .dataframe tbody tr th {\n",
              "        vertical-align: top;\n",
              "    }\n",
              "\n",
              "    .dataframe thead th {\n",
              "        text-align: right;\n",
              "    }\n",
              "</style>\n",
              "<table border=\"1\" class=\"dataframe\">\n",
              "  <thead>\n",
              "    <tr style=\"text-align: right;\">\n",
              "      <th></th>\n",
              "      <th>TransactionID</th>\n",
              "      <th>AccountID</th>\n",
              "      <th>TransactionAmount</th>\n",
              "      <th>TransactionDate</th>\n",
              "      <th>TransactionType</th>\n",
              "      <th>Location</th>\n",
              "      <th>DeviceID</th>\n",
              "      <th>IP Address</th>\n",
              "      <th>MerchantID</th>\n",
              "      <th>Channel</th>\n",
              "      <th>CustomerAge</th>\n",
              "      <th>CustomerOccupation</th>\n",
              "      <th>TransactionDuration</th>\n",
              "      <th>LoginAttempts</th>\n",
              "      <th>AccountBalance</th>\n",
              "      <th>PreviousTransactionDate</th>\n",
              "      <th>Cluster</th>\n",
              "    </tr>\n",
              "  </thead>\n",
              "  <tbody>\n",
              "    <tr>\n",
              "      <th>2507</th>\n",
              "      <td>TX002508</td>\n",
              "      <td>AC00297</td>\n",
              "      <td>856.21</td>\n",
              "      <td>2023-04-26 17:09:36</td>\n",
              "      <td>Credit</td>\n",
              "      <td>Colorado Springs</td>\n",
              "      <td>D000625</td>\n",
              "      <td>21.157.41.17</td>\n",
              "      <td>M072</td>\n",
              "      <td>Branch</td>\n",
              "      <td>33</td>\n",
              "      <td>Doctor</td>\n",
              "      <td>109</td>\n",
              "      <td>1</td>\n",
              "      <td>12690.79</td>\n",
              "      <td>2024-11-04 08:11:29</td>\n",
              "      <td>3</td>\n",
              "    </tr>\n",
              "    <tr>\n",
              "      <th>2508</th>\n",
              "      <td>TX002509</td>\n",
              "      <td>AC00322</td>\n",
              "      <td>251.54</td>\n",
              "      <td>2023-03-22 17:36:48</td>\n",
              "      <td>Debit</td>\n",
              "      <td>Tucson</td>\n",
              "      <td>D000410</td>\n",
              "      <td>49.174.157.140</td>\n",
              "      <td>M029</td>\n",
              "      <td>Branch</td>\n",
              "      <td>48</td>\n",
              "      <td>Doctor</td>\n",
              "      <td>177</td>\n",
              "      <td>1</td>\n",
              "      <td>254.75</td>\n",
              "      <td>2024-11-04 08:11:42</td>\n",
              "      <td>3</td>\n",
              "    </tr>\n",
              "    <tr>\n",
              "      <th>2509</th>\n",
              "      <td>TX002510</td>\n",
              "      <td>AC00095</td>\n",
              "      <td>28.63</td>\n",
              "      <td>2023-08-21 17:08:50</td>\n",
              "      <td>Debit</td>\n",
              "      <td>San Diego</td>\n",
              "      <td>D000095</td>\n",
              "      <td>58.1.27.124</td>\n",
              "      <td>M087</td>\n",
              "      <td>Branch</td>\n",
              "      <td>56</td>\n",
              "      <td>Retired</td>\n",
              "      <td>146</td>\n",
              "      <td>1</td>\n",
              "      <td>3382.91</td>\n",
              "      <td>2024-11-04 08:08:39</td>\n",
              "      <td>0</td>\n",
              "    </tr>\n",
              "    <tr>\n",
              "      <th>2510</th>\n",
              "      <td>TX002511</td>\n",
              "      <td>AC00118</td>\n",
              "      <td>185.97</td>\n",
              "      <td>2023-02-24 16:24:46</td>\n",
              "      <td>Debit</td>\n",
              "      <td>Denver</td>\n",
              "      <td>D000634</td>\n",
              "      <td>21.190.11.223</td>\n",
              "      <td>M041</td>\n",
              "      <td>Online</td>\n",
              "      <td>23</td>\n",
              "      <td>Student</td>\n",
              "      <td>19</td>\n",
              "      <td>1</td>\n",
              "      <td>1776.91</td>\n",
              "      <td>2024-11-04 08:12:22</td>\n",
              "      <td>1</td>\n",
              "    </tr>\n",
              "    <tr>\n",
              "      <th>2511</th>\n",
              "      <td>TX002512</td>\n",
              "      <td>AC00009</td>\n",
              "      <td>243.08</td>\n",
              "      <td>2023-02-14 16:21:23</td>\n",
              "      <td>Credit</td>\n",
              "      <td>Jacksonville</td>\n",
              "      <td>D000215</td>\n",
              "      <td>59.127.135.25</td>\n",
              "      <td>M041</td>\n",
              "      <td>Online</td>\n",
              "      <td>24</td>\n",
              "      <td>Student</td>\n",
              "      <td>93</td>\n",
              "      <td>1</td>\n",
              "      <td>131.25</td>\n",
              "      <td>2024-11-04 08:07:49</td>\n",
              "      <td>1</td>\n",
              "    </tr>\n",
              "  </tbody>\n",
              "</table>\n",
              "</div>\n",
              "    <div class=\"colab-df-buttons\">\n",
              "\n",
              "  <div class=\"colab-df-container\">\n",
              "    <button class=\"colab-df-convert\" onclick=\"convertToInteractive('df-f2513584-aaa6-4ae0-a81a-4bac6c1d0c5d')\"\n",
              "            title=\"Convert this dataframe to an interactive table.\"\n",
              "            style=\"display:none;\">\n",
              "\n",
              "  <svg xmlns=\"http://www.w3.org/2000/svg\" height=\"24px\" viewBox=\"0 -960 960 960\">\n",
              "    <path d=\"M120-120v-720h720v720H120Zm60-500h600v-160H180v160Zm220 220h160v-160H400v160Zm0 220h160v-160H400v160ZM180-400h160v-160H180v160Zm440 0h160v-160H620v160ZM180-180h160v-160H180v160Zm440 0h160v-160H620v160Z\"/>\n",
              "  </svg>\n",
              "    </button>\n",
              "\n",
              "  <style>\n",
              "    .colab-df-container {\n",
              "      display:flex;\n",
              "      gap: 12px;\n",
              "    }\n",
              "\n",
              "    .colab-df-convert {\n",
              "      background-color: #E8F0FE;\n",
              "      border: none;\n",
              "      border-radius: 50%;\n",
              "      cursor: pointer;\n",
              "      display: none;\n",
              "      fill: #1967D2;\n",
              "      height: 32px;\n",
              "      padding: 0 0 0 0;\n",
              "      width: 32px;\n",
              "    }\n",
              "\n",
              "    .colab-df-convert:hover {\n",
              "      background-color: #E2EBFA;\n",
              "      box-shadow: 0px 1px 2px rgba(60, 64, 67, 0.3), 0px 1px 3px 1px rgba(60, 64, 67, 0.15);\n",
              "      fill: #174EA6;\n",
              "    }\n",
              "\n",
              "    .colab-df-buttons div {\n",
              "      margin-bottom: 4px;\n",
              "    }\n",
              "\n",
              "    [theme=dark] .colab-df-convert {\n",
              "      background-color: #3B4455;\n",
              "      fill: #D2E3FC;\n",
              "    }\n",
              "\n",
              "    [theme=dark] .colab-df-convert:hover {\n",
              "      background-color: #434B5C;\n",
              "      box-shadow: 0px 1px 3px 1px rgba(0, 0, 0, 0.15);\n",
              "      filter: drop-shadow(0px 1px 2px rgba(0, 0, 0, 0.3));\n",
              "      fill: #FFFFFF;\n",
              "    }\n",
              "  </style>\n",
              "\n",
              "    <script>\n",
              "      const buttonEl =\n",
              "        document.querySelector('#df-f2513584-aaa6-4ae0-a81a-4bac6c1d0c5d button.colab-df-convert');\n",
              "      buttonEl.style.display =\n",
              "        google.colab.kernel.accessAllowed ? 'block' : 'none';\n",
              "\n",
              "      async function convertToInteractive(key) {\n",
              "        const element = document.querySelector('#df-f2513584-aaa6-4ae0-a81a-4bac6c1d0c5d');\n",
              "        const dataTable =\n",
              "          await google.colab.kernel.invokeFunction('convertToInteractive',\n",
              "                                                    [key], {});\n",
              "        if (!dataTable) return;\n",
              "\n",
              "        const docLinkHtml = 'Like what you see? Visit the ' +\n",
              "          '<a target=\"_blank\" href=https://colab.research.google.com/notebooks/data_table.ipynb>data table notebook</a>'\n",
              "          + ' to learn more about interactive tables.';\n",
              "        element.innerHTML = '';\n",
              "        dataTable['output_type'] = 'display_data';\n",
              "        await google.colab.output.renderOutput(dataTable, element);\n",
              "        const docLink = document.createElement('div');\n",
              "        docLink.innerHTML = docLinkHtml;\n",
              "        element.appendChild(docLink);\n",
              "      }\n",
              "    </script>\n",
              "  </div>\n",
              "\n",
              "\n",
              "<div id=\"df-623cf607-b946-4aab-9c34-9fd3611d3be4\">\n",
              "  <button class=\"colab-df-quickchart\" onclick=\"quickchart('df-623cf607-b946-4aab-9c34-9fd3611d3be4')\"\n",
              "            title=\"Suggest charts\"\n",
              "            style=\"display:none;\">\n",
              "\n",
              "<svg xmlns=\"http://www.w3.org/2000/svg\" height=\"24px\"viewBox=\"0 0 24 24\"\n",
              "     width=\"24px\">\n",
              "    <g>\n",
              "        <path d=\"M19 3H5c-1.1 0-2 .9-2 2v14c0 1.1.9 2 2 2h14c1.1 0 2-.9 2-2V5c0-1.1-.9-2-2-2zM9 17H7v-7h2v7zm4 0h-2V7h2v10zm4 0h-2v-4h2v4z\"/>\n",
              "    </g>\n",
              "</svg>\n",
              "  </button>\n",
              "\n",
              "<style>\n",
              "  .colab-df-quickchart {\n",
              "      --bg-color: #E8F0FE;\n",
              "      --fill-color: #1967D2;\n",
              "      --hover-bg-color: #E2EBFA;\n",
              "      --hover-fill-color: #174EA6;\n",
              "      --disabled-fill-color: #AAA;\n",
              "      --disabled-bg-color: #DDD;\n",
              "  }\n",
              "\n",
              "  [theme=dark] .colab-df-quickchart {\n",
              "      --bg-color: #3B4455;\n",
              "      --fill-color: #D2E3FC;\n",
              "      --hover-bg-color: #434B5C;\n",
              "      --hover-fill-color: #FFFFFF;\n",
              "      --disabled-bg-color: #3B4455;\n",
              "      --disabled-fill-color: #666;\n",
              "  }\n",
              "\n",
              "  .colab-df-quickchart {\n",
              "    background-color: var(--bg-color);\n",
              "    border: none;\n",
              "    border-radius: 50%;\n",
              "    cursor: pointer;\n",
              "    display: none;\n",
              "    fill: var(--fill-color);\n",
              "    height: 32px;\n",
              "    padding: 0;\n",
              "    width: 32px;\n",
              "  }\n",
              "\n",
              "  .colab-df-quickchart:hover {\n",
              "    background-color: var(--hover-bg-color);\n",
              "    box-shadow: 0 1px 2px rgba(60, 64, 67, 0.3), 0 1px 3px 1px rgba(60, 64, 67, 0.15);\n",
              "    fill: var(--button-hover-fill-color);\n",
              "  }\n",
              "\n",
              "  .colab-df-quickchart-complete:disabled,\n",
              "  .colab-df-quickchart-complete:disabled:hover {\n",
              "    background-color: var(--disabled-bg-color);\n",
              "    fill: var(--disabled-fill-color);\n",
              "    box-shadow: none;\n",
              "  }\n",
              "\n",
              "  .colab-df-spinner {\n",
              "    border: 2px solid var(--fill-color);\n",
              "    border-color: transparent;\n",
              "    border-bottom-color: var(--fill-color);\n",
              "    animation:\n",
              "      spin 1s steps(1) infinite;\n",
              "  }\n",
              "\n",
              "  @keyframes spin {\n",
              "    0% {\n",
              "      border-color: transparent;\n",
              "      border-bottom-color: var(--fill-color);\n",
              "      border-left-color: var(--fill-color);\n",
              "    }\n",
              "    20% {\n",
              "      border-color: transparent;\n",
              "      border-left-color: var(--fill-color);\n",
              "      border-top-color: var(--fill-color);\n",
              "    }\n",
              "    30% {\n",
              "      border-color: transparent;\n",
              "      border-left-color: var(--fill-color);\n",
              "      border-top-color: var(--fill-color);\n",
              "      border-right-color: var(--fill-color);\n",
              "    }\n",
              "    40% {\n",
              "      border-color: transparent;\n",
              "      border-right-color: var(--fill-color);\n",
              "      border-top-color: var(--fill-color);\n",
              "    }\n",
              "    60% {\n",
              "      border-color: transparent;\n",
              "      border-right-color: var(--fill-color);\n",
              "    }\n",
              "    80% {\n",
              "      border-color: transparent;\n",
              "      border-right-color: var(--fill-color);\n",
              "      border-bottom-color: var(--fill-color);\n",
              "    }\n",
              "    90% {\n",
              "      border-color: transparent;\n",
              "      border-bottom-color: var(--fill-color);\n",
              "    }\n",
              "  }\n",
              "</style>\n",
              "\n",
              "  <script>\n",
              "    async function quickchart(key) {\n",
              "      const quickchartButtonEl =\n",
              "        document.querySelector('#' + key + ' button');\n",
              "      quickchartButtonEl.disabled = true;  // To prevent multiple clicks.\n",
              "      quickchartButtonEl.classList.add('colab-df-spinner');\n",
              "      try {\n",
              "        const charts = await google.colab.kernel.invokeFunction(\n",
              "            'suggestCharts', [key], {});\n",
              "      } catch (error) {\n",
              "        console.error('Error during call to suggestCharts:', error);\n",
              "      }\n",
              "      quickchartButtonEl.classList.remove('colab-df-spinner');\n",
              "      quickchartButtonEl.classList.add('colab-df-quickchart-complete');\n",
              "    }\n",
              "    (() => {\n",
              "      let quickchartButtonEl =\n",
              "        document.querySelector('#df-623cf607-b946-4aab-9c34-9fd3611d3be4 button');\n",
              "      quickchartButtonEl.style.display =\n",
              "        google.colab.kernel.accessAllowed ? 'block' : 'none';\n",
              "    })();\n",
              "  </script>\n",
              "</div>\n",
              "\n",
              "    </div>\n",
              "  </div>\n"
            ],
            "text/plain": [
              "     TransactionID AccountID  TransactionAmount      TransactionDate  \\\n",
              "2507      TX002508   AC00297             856.21  2023-04-26 17:09:36   \n",
              "2508      TX002509   AC00322             251.54  2023-03-22 17:36:48   \n",
              "2509      TX002510   AC00095              28.63  2023-08-21 17:08:50   \n",
              "2510      TX002511   AC00118             185.97  2023-02-24 16:24:46   \n",
              "2511      TX002512   AC00009             243.08  2023-02-14 16:21:23   \n",
              "\n",
              "     TransactionType          Location DeviceID      IP Address MerchantID  \\\n",
              "2507          Credit  Colorado Springs  D000625    21.157.41.17       M072   \n",
              "2508           Debit            Tucson  D000410  49.174.157.140       M029   \n",
              "2509           Debit         San Diego  D000095     58.1.27.124       M087   \n",
              "2510           Debit            Denver  D000634   21.190.11.223       M041   \n",
              "2511          Credit      Jacksonville  D000215   59.127.135.25       M041   \n",
              "\n",
              "     Channel  CustomerAge CustomerOccupation  TransactionDuration  \\\n",
              "2507  Branch           33             Doctor                  109   \n",
              "2508  Branch           48             Doctor                  177   \n",
              "2509  Branch           56            Retired                  146   \n",
              "2510  Online           23            Student                   19   \n",
              "2511  Online           24            Student                   93   \n",
              "\n",
              "      LoginAttempts  AccountBalance PreviousTransactionDate  Cluster  \n",
              "2507              1        12690.79     2024-11-04 08:11:29        3  \n",
              "2508              1          254.75     2024-11-04 08:11:42        3  \n",
              "2509              1         3382.91     2024-11-04 08:08:39        0  \n",
              "2510              1         1776.91     2024-11-04 08:12:22        1  \n",
              "2511              1          131.25     2024-11-04 08:07:49        1  "
            ]
          },
          "execution_count": 4,
          "metadata": {},
          "output_type": "execute_result"
        }
      ],
      "source": [
        "df.tail()"
      ]
    },
    {
      "cell_type": "code",
      "execution_count": 5,
      "metadata": {
        "colab": {
          "base_uri": "https://localhost:8080/",
          "height": 617
        },
        "id": "RsdVNjS2sfXQ",
        "outputId": "d6dbeb32-99be-45ec-99e4-cf9cd9863402"
      },
      "outputs": [
        {
          "data": {
            "text/html": [
              "<div>\n",
              "<style scoped>\n",
              "    .dataframe tbody tr th:only-of-type {\n",
              "        vertical-align: middle;\n",
              "    }\n",
              "\n",
              "    .dataframe tbody tr th {\n",
              "        vertical-align: top;\n",
              "    }\n",
              "\n",
              "    .dataframe thead th {\n",
              "        text-align: right;\n",
              "    }\n",
              "</style>\n",
              "<table border=\"1\" class=\"dataframe\">\n",
              "  <thead>\n",
              "    <tr style=\"text-align: right;\">\n",
              "      <th></th>\n",
              "      <th>0</th>\n",
              "    </tr>\n",
              "  </thead>\n",
              "  <tbody>\n",
              "    <tr>\n",
              "      <th>TransactionID</th>\n",
              "      <td>0</td>\n",
              "    </tr>\n",
              "    <tr>\n",
              "      <th>AccountID</th>\n",
              "      <td>0</td>\n",
              "    </tr>\n",
              "    <tr>\n",
              "      <th>TransactionAmount</th>\n",
              "      <td>0</td>\n",
              "    </tr>\n",
              "    <tr>\n",
              "      <th>TransactionDate</th>\n",
              "      <td>0</td>\n",
              "    </tr>\n",
              "    <tr>\n",
              "      <th>TransactionType</th>\n",
              "      <td>0</td>\n",
              "    </tr>\n",
              "    <tr>\n",
              "      <th>Location</th>\n",
              "      <td>0</td>\n",
              "    </tr>\n",
              "    <tr>\n",
              "      <th>DeviceID</th>\n",
              "      <td>0</td>\n",
              "    </tr>\n",
              "    <tr>\n",
              "      <th>IP Address</th>\n",
              "      <td>0</td>\n",
              "    </tr>\n",
              "    <tr>\n",
              "      <th>MerchantID</th>\n",
              "      <td>0</td>\n",
              "    </tr>\n",
              "    <tr>\n",
              "      <th>Channel</th>\n",
              "      <td>0</td>\n",
              "    </tr>\n",
              "    <tr>\n",
              "      <th>CustomerAge</th>\n",
              "      <td>0</td>\n",
              "    </tr>\n",
              "    <tr>\n",
              "      <th>CustomerOccupation</th>\n",
              "      <td>0</td>\n",
              "    </tr>\n",
              "    <tr>\n",
              "      <th>TransactionDuration</th>\n",
              "      <td>0</td>\n",
              "    </tr>\n",
              "    <tr>\n",
              "      <th>LoginAttempts</th>\n",
              "      <td>0</td>\n",
              "    </tr>\n",
              "    <tr>\n",
              "      <th>AccountBalance</th>\n",
              "      <td>0</td>\n",
              "    </tr>\n",
              "    <tr>\n",
              "      <th>PreviousTransactionDate</th>\n",
              "      <td>0</td>\n",
              "    </tr>\n",
              "    <tr>\n",
              "      <th>Cluster</th>\n",
              "      <td>0</td>\n",
              "    </tr>\n",
              "  </tbody>\n",
              "</table>\n",
              "</div><br><label><b>dtype:</b> int64</label>"
            ],
            "text/plain": [
              "TransactionID              0\n",
              "AccountID                  0\n",
              "TransactionAmount          0\n",
              "TransactionDate            0\n",
              "TransactionType            0\n",
              "Location                   0\n",
              "DeviceID                   0\n",
              "IP Address                 0\n",
              "MerchantID                 0\n",
              "Channel                    0\n",
              "CustomerAge                0\n",
              "CustomerOccupation         0\n",
              "TransactionDuration        0\n",
              "LoginAttempts              0\n",
              "AccountBalance             0\n",
              "PreviousTransactionDate    0\n",
              "Cluster                    0\n",
              "dtype: int64"
            ]
          },
          "execution_count": 5,
          "metadata": {},
          "output_type": "execute_result"
        }
      ],
      "source": [
        "# Mengecek jumlah data yang hilang di setiap kolom\n",
        "missing_values = df.isnull().sum()\n",
        "\n",
        "# Menampilkan hasil\n",
        "missing_values"
      ]
    },
    {
      "cell_type": "markdown",
      "metadata": {
        "id": "KkPem5eWL2UP"
      },
      "source": [
        "# **3. Data Splitting**"
      ]
    },
    {
      "cell_type": "markdown",
      "metadata": {
        "id": "YYj1rl_JNI9Y"
      },
      "source": [
        "Tahap Data Splitting bertujuan untuk memisahkan dataset menjadi dua bagian: data latih (training set) dan data uji (test set)."
      ]
    },
    {
      "cell_type": "code",
      "execution_count": 6,
      "metadata": {
        "colab": {
          "base_uri": "https://localhost:8080/"
        },
        "id": "OubAW-7ONKVj",
        "outputId": "65ccb5d4-81a6-4f18-872d-76d2ffbb0d0e"
      },
      "outputs": [
        {
          "data": {
            "text/plain": [
              "((2009, 5), (503, 5))"
            ]
          },
          "execution_count": 6,
          "metadata": {},
          "output_type": "execute_result"
        }
      ],
      "source": [
        "# Pilih fitur numerik dan label\n",
        "selected_features = [\n",
        "    \"TransactionAmount\", \"CustomerAge\", \"TransactionDuration\",\n",
        "    \"LoginAttempts\", \"AccountBalance\"\n",
        "]\n",
        "X = df[selected_features]  # Fitur\n",
        "y = df[\"Cluster\"]  # Label\n",
        "\n",
        "# Bagi data menjadi 80% training dan 20% testing\n",
        "X_train, X_test, y_train, y_test = train_test_split(X, y, test_size=0.2, random_state=42, stratify=y)\n",
        "\n",
        "# Cek ukuran dataset setelah splitting\n",
        "X_train.shape, X_test.shape"
      ]
    },
    {
      "cell_type": "markdown",
      "metadata": {
        "id": "IVPbB03CMhTT"
      },
      "source": [
        "# **4. Membangun Model Klasifikasi**\n"
      ]
    },
    {
      "cell_type": "markdown",
      "metadata": {
        "id": "Ned1pL9zMmBK"
      },
      "source": [
        "## **a. Membangun Model Klasifikasi**"
      ]
    },
    {
      "cell_type": "markdown",
      "metadata": {
        "id": "WAWzPOE4Nkti"
      },
      "source": [
        "Setelah memilih algoritma klasifikasi yang sesuai, langkah selanjutnya adalah melatih model menggunakan data latih.\n",
        "\n",
        "Berikut adalah rekomendasi tahapannya.\n",
        "1. Pilih algoritma klasifikasi yang sesuai, seperti Logistic Regression, Decision Tree, Random Forest, atau K-Nearest Neighbors (KNN).\n",
        "2. Latih model menggunakan data latih."
      ]
    },
    {
      "cell_type": "markdown",
      "metadata": {
        "id": "QjoxY4qNmjdC"
      },
      "source": [
        "# KNN"
      ]
    },
    {
      "cell_type": "code",
      "execution_count": 16,
      "metadata": {
        "id": "BmVcQbYanTOK"
      },
      "outputs": [],
      "source": [
        "# Inisialisasi StandardScaler\n",
        "scaler = StandardScaler()\n",
        "\n",
        "# Normalisasi hanya pada fitur (bukan target)\n",
        "X_train_scaled = scaler.fit_transform(X_train)\n",
        "X_test_scaled = scaler.transform(X_test)\n",
        "\n",
        "# Inisialisasi model KNN dengan k=5\n",
        "knn = KNeighborsClassifier(n_neighbors=5)\n",
        "\n",
        "# Latih model dengan data yang telah dinormalisasi\n",
        "knn.fit(X_train_scaled, y_train)\n",
        "\n",
        "# Prediksi dengan data testing yang sudah dinormalisasi\n",
        "y_pred_knn = knn.predict(X_test_scaled)"
      ]
    },
    {
      "cell_type": "markdown",
      "metadata": {
        "id": "C059Xd0kme1C"
      },
      "source": [
        "# RANDOM FOREST"
      ]
    },
    {
      "cell_type": "code",
      "execution_count": 8,
      "metadata": {
        "id": "4JYxBe87NLDk"
      },
      "outputs": [],
      "source": [
        "# Inisialisasi model Random Forest\n",
        "rf_model = RandomForestClassifier(n_estimators=100, random_state=42)\n",
        "\n",
        "# Latih model dengan data training\n",
        "rf_model.fit(X_train, y_train)\n",
        "\n",
        "# Prediksi pada data testing\n",
        "y_pred_rf = rf_model.predict(X_test)\n"
      ]
    },
    {
      "cell_type": "markdown",
      "metadata": {
        "id": "seYoHNY3XU1y"
      },
      "source": [
        "Tulis narasi atau penjelasan algoritma yang Anda gunakan."
      ]
    },
    {
      "cell_type": "markdown",
      "metadata": {
        "id": "QnTZdd_-r7z8"
      },
      "source": [
        "Dalam analisis ini, digunakan dua jenis algoritma machine learning untuk melakukan klasifikasi, yaitu K-Nearest Neighbors (KNN) dan Random Forest (RF). Kedua algoritma ini memiliki pendekatan yang berbeda dalam memprediksi label kelas berdasarkan fitur yang diberikan.\n",
        "\n",
        "1. K-Nearest Neighbors (KNN)\n",
        "  \n",
        "  K-Nearest Neighbors (KNN) adalah algoritma berbasis instance-based learning yang bekerja dengan prinsip berikut:\n",
        "\n",
        "  Saat melakukan prediksi, KNN menghitung jarak antara sampel data baru dengan seluruh data dalam dataset pelatihan.\n",
        "  Jarak ini biasanya dihitung menggunakan Euclidean Distance, meskipun metrik lain juga dapat digunakan.\n",
        "  Setelah jarak dihitung, algoritma akan memilih k tetangga terdekat (dalam kasus ini, k = 5).\n",
        "  Prediksi dilakukan dengan mengambil mayoritas label kelas dari k tetangga terdekat tersebut.\n",
        "    - Keunggulan KNN:\n",
        "\n",
        "      - Mudah dipahami dan diimplementasikan.\n",
        "      - Tidak memerlukan pelatihan model yang kompleks, karena hanya menyimpan data training.\n",
        "    - Kelemahan KNN:\n",
        "\n",
        "      - Bisa menjadi lambat untuk dataset yang besar karena harus menghitung jarak ke semua titik data setiap kali prediksi dilakukan.\n",
        "      - Sensitif terhadap fitur yang memiliki skala yang berbeda, sehingga data perlu dinormalisasi.\n",
        "\n",
        "2. Random Forest (RF)\n",
        "  \n",
        "  Random Forest adalah algoritma berbasis ensemble learning yang terdiri dari banyak Decision Trees. Cara kerja Random Forest adalah:\n",
        "\n",
        "  Model membuat banyak Decision Trees (dalam kode ini, 100 trees digunakan).\n",
        "  Setiap pohon dilatih menggunakan subset data training yang dipilih secara acak (bagging method).\n",
        "  Saat melakukan prediksi, setiap pohon memberikan hasil prediksinya.\n",
        "  Voting mayoritas digunakan untuk menentukan hasil akhir (pada kasus klasifikasi).\n",
        "  - Keunggulan Random Forest:\n",
        "\n",
        "      - Lebih akurat dibanding model berbasis pohon tunggal karena mengurangi overfitting.\n",
        "      - Mampu menangani dataset dengan banyak fitur dan tidak memerlukan banyak preprocessing.\n",
        "  - Kelemahan Random Forest:\n",
        "\n",
        "      - Bisa lebih lambat dalam melakukan prediksi dibanding model yang lebih sederhana seperti KNN atau Decision Tree.\n",
        "      - Tidak mudah untuk diinterpretasikan dibanding Decision Tree tunggal."
      ]
    },
    {
      "cell_type": "markdown",
      "metadata": {
        "id": "ergzChZFEL-O"
      },
      "source": [
        "## **b. Evaluasi Model Klasifikasi**"
      ]
    },
    {
      "cell_type": "markdown",
      "metadata": {
        "id": "zOm68u-7NpLT"
      },
      "source": [
        "Berikut adalah **rekomendasi** tahapannya.\n",
        "1. Lakukan prediksi menggunakan data uji.\n",
        "2. Hitung metrik evaluasi seperti Accuracy dan F1-Score (Opsional: Precision dan Recall).\n",
        "3. Buat confusion matrix untuk melihat detail prediksi benar dan salah."
      ]
    },
    {
      "cell_type": "code",
      "execution_count": 17,
      "metadata": {
        "colab": {
          "base_uri": "https://localhost:8080/"
        },
        "id": "SNJOTAm8nl3F",
        "outputId": "17e677c4-d72f-47de-dfd5-e2f3d1c86bb9"
      },
      "outputs": [
        {
          "name": "stdout",
          "output_type": "stream",
          "text": [
            "accuracy_knn: 0.7416\n",
            "\n",
            "Confusion Matrix:\n",
            "[[110   0   7   3]\n",
            " [  0 122  10   0]\n",
            " [ 27   9  76  13]\n",
            " [ 28   5  28  65]] \n",
            "\n",
            "Classification Report:\n",
            "              precision    recall  f1-score   support\n",
            "\n",
            "           0       0.67      0.92      0.77       120\n",
            "           1       0.90      0.92      0.91       132\n",
            "           2       0.63      0.61      0.62       125\n",
            "           3       0.80      0.52      0.63       126\n",
            "\n",
            "    accuracy                           0.74       503\n",
            "   macro avg       0.75      0.74      0.73       503\n",
            "weighted avg       0.75      0.74      0.73       503\n",
            "\n"
          ]
        }
      ],
      "source": [
        "# Evaluasi model KNN\n",
        "accuracy_knn = accuracy_score(y_test, y_pred_knn)\n",
        "conf_matrix_knn = confusion_matrix(y_test, y_pred_knn)\n",
        "class_report_knn = classification_report(y_test, y_pred_knn)\n",
        "\n",
        "# Cetak hasil evaluasi dengan format lebih rapi\n",
        "print(f\"accuracy_knn: {accuracy_knn:.4f}\\n\")\n",
        "\n",
        "print(\"Confusion Matrix:\")\n",
        "print(conf_matrix_knn, \"\\n\")\n",
        "\n",
        "print(\"Classification Report:\")\n",
        "print(class_report_knn)"
      ]
    },
    {
      "cell_type": "code",
      "execution_count": 11,
      "metadata": {
        "id": "tMq4QAssNLip"
      },
      "outputs": [],
      "source": [
        "# Evaluasi model Random Forest\n",
        "accuracy = accuracy_score(y_test, y_pred_rf)\n",
        "conf_matrix = confusion_matrix(y_test, y_pred_rf)\n",
        "class_report = classification_report(y_test, y_pred_rf)"
      ]
    },
    {
      "cell_type": "code",
      "execution_count": 18,
      "metadata": {
        "colab": {
          "base_uri": "https://localhost:8080/"
        },
        "id": "bMbIQj3NmVw0",
        "outputId": "f5d8bc2d-31a1-4d87-c9ef-208e054338c3"
      },
      "outputs": [
        {
          "name": "stdout",
          "output_type": "stream",
          "text": [
            "Accuracy RF: 0.8131\n",
            "\n",
            "Confusion Matrix:\n",
            "[[108   0   7   5]\n",
            " [  0 131   1   0]\n",
            " [ 15   2  90  18]\n",
            " [ 17   0  29  80]] \n",
            "\n",
            "Classification Report:\n",
            "              precision    recall  f1-score   support\n",
            "\n",
            "           0       0.77      0.90      0.83       120\n",
            "           1       0.98      0.99      0.99       132\n",
            "           2       0.71      0.72      0.71       125\n",
            "           3       0.78      0.63      0.70       126\n",
            "\n",
            "    accuracy                           0.81       503\n",
            "   macro avg       0.81      0.81      0.81       503\n",
            "weighted avg       0.81      0.81      0.81       503\n",
            "\n"
          ]
        }
      ],
      "source": [
        "# Cetak hasil evaluasi dengan format lebih rapi\n",
        "print(f\"Accuracy RF: {accuracy:.4f}\\n\")\n",
        "\n",
        "print(\"Confusion Matrix:\")\n",
        "print(conf_matrix, \"\\n\")\n",
        "\n",
        "print(\"Classification Report:\")\n",
        "print(class_report)"
      ]
    },
    {
      "cell_type": "markdown",
      "metadata": {
        "id": "H4_9OwrsXZlz"
      },
      "source": [
        "Tulis hasil evaluasi algoritma yang digunakan, jika Anda menggunakan 2 algoritma, maka bandingkan hasilnya."
      ]
    },
    {
      "cell_type": "markdown",
      "metadata": {
        "id": "-IIF7AdVtfDu"
      },
      "source": [
        "# **1. Performa Model K-Nearest Neighbors (KNN)**\n",
        "\n",
        "### Akurasi KNN: 74.16%\n",
        "### Precision & Recall:\n",
        "  \n",
        "  * Kelas 0 & 1 memiliki recall tinggi (0.92), artinya model mampu mengidentifikasi banyak instance dari kelas ini dengan baik.\n",
        "  \n",
        "  * Kelas 2 & 3 memiliki recall lebih rendah (0.61 & 0.52), menunjukkan model masih kesulitan dalam mengenali instance dari kelas tersebut.\n",
        "\n",
        "### Confusion Matrix:\n",
        "\n",
        "* Model banyak melakukan kesalahan pada kelas 2 dan 3, yang menyebabkan f1-score lebih rendah.\n",
        "\n",
        "## Kesimpulan KNN:\n",
        "\n",
        "KNN bekerja cukup baik, tetapi kurang optimal dalam membedakan kelas 2 dan 3.\n",
        "\n",
        "Akurasi cukup baik (74%), tetapi masih ada overlap antar kelas, terutama pada kelas yang memiliki distribusi mirip.\n",
        "\n",
        "\n",
        "# **2. Performa Model Random Forest (RF)**\n",
        "\n",
        "### Akurasi RF: 81.31% (lebih tinggi dibanding KNN!)\n",
        "### Precision & Recall:\n",
        "* Kelas 1 memiliki performa hampir sempurna (precision = 0.98, recall = 0.99), yang berarti model hampir selalu mengklasifikasikan kelas ini dengan benar.\n",
        "* Kelas 3 masih memiliki recall rendah (0.63), tetapi lebih baik dibanding KNN.\n",
        "Confusion Matrix:\n",
        "Kesalahan klasifikasi berkurang dibanding KNN, terutama pada kelas 2 dan 3.\n",
        "\n",
        "## Kesimpulan Random Forest:\n",
        "\n",
        "* Performa lebih baik dibanding KNN karena mampu menangani ketidakseimbangan data dan fitur yang lebih kompleks.\n",
        "* Model lebih akurat dalam membedakan kelas yang memiliki distribusi mirip, sehingga akurasi meningkat menjadi 81%.\n",
        "* Random Forest lebih stabil dan tidak terlalu sensitif terhadap skala fitur, sehingga lebih cocok untuk dataset ini."
      ]
    },
    {
      "cell_type": "markdown",
      "metadata": {
        "id": "ph9yIYDXEPuB"
      },
      "source": [
        "## **c. Tuning Model Klasifikasi (Optional)**"
      ]
    },
    {
      "cell_type": "markdown",
      "metadata": {
        "id": "-Bikx3LINv5e"
      },
      "source": [
        "Gunakan GridSearchCV, RandomizedSearchCV, atau metode lainnya untuk mencari kombinasi hyperparameter terbaik"
      ]
    },
    {
      "cell_type": "code",
      "execution_count": 13,
      "metadata": {
        "colab": {
          "base_uri": "https://localhost:8080/"
        },
        "id": "winbFzb8NL95",
        "outputId": "299dc807-c25f-4134-8ff9-951b5d71221d"
      },
      "outputs": [
        {
          "data": {
            "text/plain": [
              "({'max_depth': 10,\n",
              "  'min_samples_leaf': 1,\n",
              "  'min_samples_split': 2,\n",
              "  'n_estimators': 100},\n",
              " 0.8230616302186878)"
            ]
          },
          "execution_count": 13,
          "metadata": {},
          "output_type": "execute_result"
        }
      ],
      "source": [
        "# Definisikan hyperparameter yang akan dituning\n",
        "param_grid_rf = {\n",
        "    \"n_estimators\": [50, 100, 200],\n",
        "    \"max_depth\": [10, 20, None],\n",
        "    \"min_samples_split\": [2, 5, 10],\n",
        "    \"min_samples_leaf\": [1, 2, 4],\n",
        "}\n",
        "\n",
        "# Inisialisasi model Random Forest\n",
        "rf_model = RandomForestClassifier(random_state=42)\n",
        "\n",
        "# GridSearchCV untuk mencari parameter terbaik\n",
        "grid_search_rf = GridSearchCV(rf_model, param_grid_rf, cv=5, scoring=\"accuracy\", n_jobs=-1)\n",
        "grid_search_rf.fit(X_train, y_train)\n",
        "\n",
        "# Ambil model terbaik\n",
        "best_rf_model = grid_search_rf.best_estimator_\n",
        "\n",
        "# Prediksi dengan model terbaik\n",
        "y_pred_best_rf = best_rf_model.predict(X_test)\n",
        "\n",
        "# Evaluasi model\n",
        "accuracy_best_rf = accuracy_score(y_test, y_pred_best_rf)\n",
        "conf_matrix_best_rf = confusion_matrix(y_test, y_pred_best_rf)\n",
        "class_report_best_rf = classification_report(y_test, y_pred_best_rf)\n",
        "\n",
        "# Tampilkan hasil tuning\n",
        "grid_search_rf.best_params_, accuracy_best_rf\n"
      ]
    },
    {
      "cell_type": "markdown",
      "metadata": {
        "id": "hE7pqlEPEYzI"
      },
      "source": [
        "## **d. Evaluasi Model Klasifikasi setelah Tuning (Optional)**"
      ]
    },
    {
      "cell_type": "markdown",
      "metadata": {
        "id": "feaPESoeN0zz"
      },
      "source": [
        "Berikut adalah rekomendasi tahapannya.\n",
        "1. Gunakan model dengan hyperparameter terbaik.\n",
        "2. Hitung ulang metrik evaluasi untuk melihat apakah ada peningkatan performa."
      ]
    },
    {
      "cell_type": "code",
      "execution_count": 14,
      "metadata": {
        "id": "HTXZRvEeNMb1"
      },
      "outputs": [],
      "source": [
        "from sklearn.ensemble import RandomForestClassifier\n",
        "from sklearn.metrics import accuracy_score, confusion_matrix, classification_report\n",
        "\n",
        "# Gunakan hyperparameter terbaik yang telah ditemukan sebelumnya\n",
        "best_rf_model = RandomForestClassifier(\n",
        "    n_estimators=100,\n",
        "    max_depth=10,\n",
        "    min_samples_split=2,\n",
        "    min_samples_leaf=1,\n",
        "    random_state=42\n",
        ")\n",
        "\n",
        "# Latih model dengan data training\n",
        "best_rf_model.fit(X_train, y_train)\n",
        "\n",
        "# Prediksi pada data testing\n",
        "y_pred_best_rf = best_rf_model.predict(X_test)\n",
        "\n",
        "# Evaluasi model\n",
        "accuracy_best_rf = accuracy_score(y_test, y_pred_best_rf)\n",
        "conf_matrix_best_rf = confusion_matrix(y_test, y_pred_best_rf)\n",
        "class_report_best_rf = classification_report(y_test, y_pred_best_rf)"
      ]
    },
    {
      "cell_type": "code",
      "execution_count": 20,
      "metadata": {
        "colab": {
          "base_uri": "https://localhost:8080/"
        },
        "id": "1ItFXiixp748",
        "outputId": "49151ba7-f9b5-448e-eaf3-c3f2f80f6820"
      },
      "outputs": [
        {
          "name": "stdout",
          "output_type": "stream",
          "text": [
            "Accuracy_best_rf: 0.8231\n",
            "\n",
            "Confusion Matrix:\n",
            "[[114   0   3   3]\n",
            " [  0 131   1   0]\n",
            " [ 21   2  96   6]\n",
            " [ 18   0  35  73]] \n",
            "\n",
            "Classification Report:\n",
            "              precision    recall  f1-score   support\n",
            "\n",
            "           0       0.75      0.95      0.84       120\n",
            "           1       0.98      0.99      0.99       132\n",
            "           2       0.71      0.77      0.74       125\n",
            "           3       0.89      0.58      0.70       126\n",
            "\n",
            "    accuracy                           0.82       503\n",
            "   macro avg       0.83      0.82      0.82       503\n",
            "weighted avg       0.84      0.82      0.82       503\n",
            "\n"
          ]
        }
      ],
      "source": [
        "# Cetak hasil evaluasi dengan format lebih rapi\n",
        "print(f\"Accuracy_best_rf: {accuracy_best_rf:.4f}\\n\")\n",
        "\n",
        "print(\"Confusion Matrix:\")\n",
        "print(conf_matrix_best_rf, \"\\n\")\n",
        "\n",
        "print(\"Classification Report:\")\n",
        "print(class_report_best_rf)"
      ]
    },
    {
      "cell_type": "code",
      "execution_count": 21,
      "metadata": {
        "colab": {
          "base_uri": "https://localhost:8080/"
        },
        "id": "hCCSBleuwCZ0",
        "outputId": "f0803ca5-3ca4-4ea6-e1e5-4bd7d8fa553b"
      },
      "outputs": [
        {
          "name": "stdout",
          "output_type": "stream",
          "text": [
            "Accuracy RF: 0.8131\n",
            "\n",
            "Confusion Matrix:\n",
            "[[108   0   7   5]\n",
            " [  0 131   1   0]\n",
            " [ 15   2  90  18]\n",
            " [ 17   0  29  80]] \n",
            "\n",
            "Classification Report:\n",
            "              precision    recall  f1-score   support\n",
            "\n",
            "           0       0.77      0.90      0.83       120\n",
            "           1       0.98      0.99      0.99       132\n",
            "           2       0.71      0.72      0.71       125\n",
            "           3       0.78      0.63      0.70       126\n",
            "\n",
            "    accuracy                           0.81       503\n",
            "   macro avg       0.81      0.81      0.81       503\n",
            "weighted avg       0.81      0.81      0.81       503\n",
            "\n"
          ]
        }
      ],
      "source": [
        "# Cetak hasil evaluasi dengan format lebih rapi\n",
        "print(f\"Accuracy RF: {accuracy:.4f}\\n\")\n",
        "\n",
        "print(\"Confusion Matrix:\")\n",
        "print(conf_matrix, \"\\n\")\n",
        "\n",
        "print(\"Classification Report:\")\n",
        "print(class_report)"
      ]
    },
    {
      "cell_type": "markdown",
      "metadata": {
        "id": "ZRsOdm4uEgAW"
      },
      "source": [
        "## **e. Analisis Hasil Evaluasi Model Klasifikasi**"
      ]
    },
    {
      "cell_type": "markdown",
      "metadata": {
        "id": "Hm3BhSi6N4_l"
      },
      "source": [
        "Berikut adalah **rekomendasi** tahapannya.\n",
        "1. Bandingkan hasil evaluasi sebelum dan setelah tuning (jika dilakukan).\n",
        "2. Identifikasi kelemahan model, seperti:\n",
        "  - Precision atau Recall rendah untuk kelas tertentu.\n",
        "  - Apakah model mengalami overfitting atau underfitting?\n",
        "3. Berikan rekomendasi tindakan lanjutan, seperti mengumpulkan data tambahan atau mencoba algoritma lain jika hasil belum memuaskan."
      ]
    },
    {
      "cell_type": "markdown",
      "metadata": {
        "id": "zlp2qS_Hu1Ft"
      },
      "source": [
        " # **Perbandingan Hasil Evaluasi Sebelum & Setelah Tuning**\n",
        "\n",
        " Model\tRandom Forest\n",
        "\n",
        " Akurasi Sebelum Tuning\t            : 81.31%\n",
        "\n",
        " Akurasi Setelah Tuning\t            : 82.31%\n",
        "\n",
        " Peningkatan\t                      \t\t+1%\n",
        "\n",
        " ## Perbandingan Confusion Matrix\n",
        "  - Kesalahan klasifikasi pada kelas 0 dan 2 berkurang, menunjukkan model lebih baik mengenali kelas tersebut.\n",
        "  - Kelas 3 masih memiliki banyak kesalahan klasifikasi (35 salah ke kelas 2) → Recall untuk kelas 3 masih rendah.\n",
        "\n",
        "\n",
        "## Perbandingan Precision & Recall\n",
        "\n",
        "  - Recall untuk kelas 0 & 2 meningkat, yang berarti model lebih baik dalam mengenali instance yang benar.\n",
        "  - Recall untuk kelas 3 menurun (0.63 → 0.58), artinya model masih kesulitan dalam mengklasifikasikan kelas ini.\n",
        "\n",
        "# Identifikasi Kelemahan Model\n",
        "1. Precision & Recall untuk kelas 3 masih kurang stabil\n",
        "\n",
        "  - Model masih sering salah mengklasifikasikan kelas 3 ke kelas lain.\n",
        "  - Bisa jadi karena distribusi data kelas 3 yang mirip dengan kelas lain.\n",
        "2. Potensi Overfitting Berkurang Setelah Tuning\n",
        "\n",
        "  - Dengan max_depth=10, model lebih simpel dan tidak terlalu overfit pada data training.\n",
        "\n",
        "# Rekomendasi Tindakan Lanjutan\n",
        "\n",
        "1. Menggunakan Teknik Resampling (SMOTE atau Undersampling)\n",
        "\n",
        "  Jika kelas 3 memiliki jumlah data lebih sedikit, bisa dicoba oversampling atau SMOTE untuk menyeimbangkan distribusi.\n",
        "2. Mencoba Model Lain (XGBoost atau LightGBM)\n",
        "\n",
        "  Jika ingin hasil lebih optimal, bisa diuji model berbasis Gradient Boosting seperti XGBoost atau LightGBM.\n",
        "3. Feature Engineering\n",
        "\n",
        "  Analisis fitur lebih dalam, apakah ada fitur yang terlalu dominan atau tidak berkontribusi dalam klasifikasi.\n"
      ]
    }
  ],
  "metadata": {
    "colab": {
      "provenance": []
    },
    "kernelspec": {
      "display_name": "Python 3",
      "name": "python3"
    },
    "language_info": {
      "name": "python"
    }
  },
  "nbformat": 4,
  "nbformat_minor": 0
}
